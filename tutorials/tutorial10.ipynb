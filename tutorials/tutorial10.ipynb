{
 "cells": [
  {
   "cell_type": "markdown",
   "id": "68542bce",
   "metadata": {},
   "source": [
    "# Tutorial 10"
   ]
  },
  {
   "cell_type": "markdown",
   "id": "72772ca0-4b7a-41bc-9577-377ba00e9019",
   "metadata": {},
   "source": [
    "# Scipy and a bit of pandas "
   ]
  },
  {
   "cell_type": "code",
   "execution_count": null,
   "id": "bc9af529",
   "metadata": {},
   "outputs": [],
   "source": [
    "import matplotlib.pyplot as plt\n",
    "import numpy as np\n",
    "from scipy import optimize, integrate, interpolate\n",
    "from scipy.misc import derivative\n",
    "import pandas as pd"
   ]
  },
  {
   "cell_type": "markdown",
   "id": "090b7761",
   "metadata": {},
   "source": [
    " "
   ]
  },
  {
   "cell_type": "markdown",
   "id": "a0008fbd",
   "metadata": {},
   "source": [
    "## Data fitting"
   ]
  },
  {
   "cell_type": "markdown",
   "id": "5f45708c",
   "metadata": {},
   "source": [
    "Let's assume we have a set of measured data as shown below."
   ]
  },
  {
   "cell_type": "code",
   "execution_count": null,
   "id": "093e5fa9",
   "metadata": {},
   "outputs": [],
   "source": [
    "x = np.asarray([0, 0.444, 0.889, 1.33, 1.778, 2.222, 2.667, 3.111, 3.556, 4.])\n",
    "y = np.asarray([0, 0.546, 1.29, 1.85, 2.24, 2.689, 2.916,  2.999, 2.935, 2.728])\n",
    "y_err = np.asarray([0.26, 0.41, 0.24, 0.49, 0.21, 0.45, 0.66, 0.67 , 0.26, 0.27])\n",
    "\n",
    "plt.errorbar(x,y, yerr=y_err, marker='o', linestyle='none')"
   ]
  },
  {
   "cell_type": "markdown",
   "id": "dfa5fc9b",
   "metadata": {},
   "source": [
    "1. What do we need to know in order to fit this data?"
   ]
  },
  {
   "cell_type": "markdown",
   "id": "d3a04a95",
   "metadata": {},
   "source": [
    " "
   ]
  },
  {
   "cell_type": "markdown",
   "id": "fd814982",
   "metadata": {},
   "source": [
    " "
   ]
  },
  {
   "cell_type": "markdown",
   "id": "7e216e68",
   "metadata": {},
   "source": [
    " "
   ]
  },
  {
   "cell_type": "markdown",
   "id": "1b0be428",
   "metadata": {},
   "source": [
    " "
   ]
  },
  {
   "cell_type": "markdown",
   "id": "cdb49a35",
   "metadata": {},
   "source": [
    " "
   ]
  },
  {
   "cell_type": "markdown",
   "id": "ba8294c6",
   "metadata": {},
   "source": [
    "2. How to add errors to the fit?\n",
    "Before running the code, what information can we use to help optimizer to find a solution faster? Check the plot above."
   ]
  },
  {
   "cell_type": "markdown",
   "id": "f3fe1be5",
   "metadata": {},
   "source": [
    " "
   ]
  },
  {
   "cell_type": "markdown",
   "id": "41e59b3f",
   "metadata": {},
   "source": [
    " "
   ]
  },
  {
   "cell_type": "code",
   "execution_count": null,
   "id": "9a74e06f",
   "metadata": {},
   "outputs": [],
   "source": [
    "def f(x, a, b, c):\n",
    "    return a*(x - b)**2 + c\n",
    "\n",
    "parameters, covariance = optimize.curve_fit(f, x, y)\n",
    "fitted_a, fitted_b, fitted_c = parameters"
   ]
  },
  {
   "cell_type": "markdown",
   "id": "bb409afd",
   "metadata": {},
   "source": [
    " "
   ]
  },
  {
   "cell_type": "markdown",
   "id": "d71f5258",
   "metadata": {},
   "source": [
    " "
   ]
  },
  {
   "cell_type": "markdown",
   "id": "b82fc2a5",
   "metadata": {},
   "source": [
    " "
   ]
  },
  {
   "cell_type": "markdown",
   "id": "94159913",
   "metadata": {},
   "source": [
    " "
   ]
  },
  {
   "cell_type": "markdown",
   "id": "14537476",
   "metadata": {},
   "source": [
    "3. How to add the curve with best-fit parameters to the plot?"
   ]
  },
  {
   "cell_type": "code",
   "execution_count": null,
   "id": "c0d1cdb4",
   "metadata": {},
   "outputs": [],
   "source": [
    "\n",
    "\n",
    "plt.errorbar(x,y, yerr=y_err, marker='o', linestyle='none', label='data')\n",
    "plt.plot(, label='cosine fit', color='r', lw=2,alpha=0.7)\n",
    "\n",
    "print(parameters)"
   ]
  },
  {
   "cell_type": "markdown",
   "id": "2ee8b048",
   "metadata": {},
   "source": [
    " "
   ]
  },
  {
   "cell_type": "markdown",
   "id": "acee6990",
   "metadata": {},
   "source": [
    " "
   ]
  },
  {
   "cell_type": "markdown",
   "id": "9efed345",
   "metadata": {},
   "source": [
    " "
   ]
  },
  {
   "cell_type": "markdown",
   "id": "b690e3a4",
   "metadata": {},
   "source": [
    " "
   ]
  },
  {
   "cell_type": "markdown",
   "id": "e14c3d40",
   "metadata": {},
   "source": [
    "## Minimization"
   ]
  },
  {
   "cell_type": "markdown",
   "id": "ffb0718a",
   "metadata": {},
   "source": [
    "In the previous example we assumed that we know the fitting function. In many real examples, we don't! For this we usually test different functions and decide which one fits better."
   ]
  },
  {
   "cell_type": "markdown",
   "id": "627018fb",
   "metadata": {},
   "source": [
    " "
   ]
  },
  {
   "cell_type": "markdown",
   "id": "660883f2",
   "metadata": {},
   "source": [
    " "
   ]
  },
  {
   "cell_type": "markdown",
   "id": "09301807",
   "metadata": {},
   "source": [
    "4. Do you any way how to judge which one of two fitted functions fit the data better?"
   ]
  },
  {
   "cell_type": "markdown",
   "id": "aefb4341",
   "metadata": {},
   "source": [
    " "
   ]
  },
  {
   "cell_type": "markdown",
   "id": "38e2f7b2",
   "metadata": {},
   "source": [
    " "
   ]
  },
  {
   "cell_type": "markdown",
   "id": "0d193644",
   "metadata": {},
   "source": [
    " "
   ]
  },
  {
   "cell_type": "markdown",
   "id": "e97564e9",
   "metadata": {},
   "source": [
    "Likely, the most common way to use minimization in physics is for finding best fits, for example, minimize distance between the data point and theoretical model. In the methods like maximum likelihood estimation, we actually *minimize* the negative likelihood."
   ]
  },
  {
   "cell_type": "markdown",
   "id": "9856dd7d",
   "metadata": {},
   "source": [
    "Let's now test two functions to fit the data, one is a parabola and another is a sine."
   ]
  },
  {
   "cell_type": "code",
   "execution_count": null,
   "id": "01c5fcf9",
   "metadata": {},
   "outputs": [],
   "source": [
    "def f1(x, a, b, c):\n",
    "    return a*(x - b)**2 + c\n",
    "\n",
    "def f2(x, a, b, c):\n",
    "    return a*np.sin(b*x) + c"
   ]
  },
  {
   "cell_type": "markdown",
   "id": "a1bd814a",
   "metadata": {},
   "source": [
    "As a criterion of which function fits better we will use\n",
    "\n",
    "$$\\chi^2_r = \\frac{1}{N_{data} - N_{par} + 1} \\sum \\frac{(y_{data} - y_{model})^2}{\\sigma^2}$$"
   ]
  },
  {
   "cell_type": "markdown",
   "id": "fb95cbe3",
   "metadata": {},
   "source": [
    "`scipy.optimize.minimize` takes a function with a **single** argument, that is why parameters must be defined as structured data."
   ]
  },
  {
   "cell_type": "markdown",
   "id": "0feb43ec",
   "metadata": {},
   "source": [
    " "
   ]
  },
  {
   "cell_type": "markdown",
   "id": "1ed9fb58",
   "metadata": {},
   "source": [
    " "
   ]
  },
  {
   "cell_type": "markdown",
   "id": "1650ca63",
   "metadata": {},
   "source": [
    "5. How to change a functions below to take list/tuple `params` instead of `a`,`b`,`c`?"
   ]
  },
  {
   "cell_type": "code",
   "execution_count": null,
   "id": "8802197c",
   "metadata": {},
   "outputs": [],
   "source": [
    "\n",
    "def chi2_f1(x,a,b,c):\n",
    "    y_model = f1(x,a,b,c)\n",
    "    dof = len(x) - 3 + 1\n",
    "    return np.sum((y - y_model)**2/y_err**2)/dof\n",
    "\n",
    "def chi2_f2(x,a,b,c):\n",
    "    y_model = f2(x,a,b,c)\n",
    "    dof = len(x) - 3 + 1\n",
    "    return np.sum((y - y_model)**2/y_err**2)/dof"
   ]
  },
  {
   "cell_type": "markdown",
   "id": "d56ce2f5",
   "metadata": {},
   "source": [
    " "
   ]
  },
  {
   "cell_type": "markdown",
   "id": "1926397b",
   "metadata": {},
   "source": [
    " "
   ]
  },
  {
   "cell_type": "markdown",
   "id": "a8bf1d9a",
   "metadata": {},
   "source": [
    " "
   ]
  },
  {
   "cell_type": "markdown",
   "id": "900897f5",
   "metadata": {},
   "source": [
    " "
   ]
  },
  {
   "cell_type": "markdown",
   "id": "74356f0b",
   "metadata": {},
   "source": [
    "6. Can you suggest an initial guess for each $\\chi^2$ function?"
   ]
  },
  {
   "cell_type": "code",
   "execution_count": null,
   "id": "bcf5f9da",
   "metadata": {},
   "outputs": [],
   "source": [
    "initial1 = []\n",
    "\n",
    "result1 = optimize.minimize(chi2_f1, initial1)\n",
    "print(result1.x)\n",
    "print(result1.fun)"
   ]
  },
  {
   "cell_type": "code",
   "execution_count": null,
   "id": "3effa5a3",
   "metadata": {},
   "outputs": [],
   "source": [
    "initial2 = []\n",
    "result2 = optimize.minimize(chi2_f2, initial2)\n",
    "print(result2.x)\n",
    "print(result2.fun)"
   ]
  },
  {
   "cell_type": "markdown",
   "id": "fae9462e",
   "metadata": {},
   "source": [
    " "
   ]
  },
  {
   "cell_type": "markdown",
   "id": "a5410094",
   "metadata": {},
   "source": [
    " "
   ]
  },
  {
   "cell_type": "markdown",
   "id": "2359351f",
   "metadata": {},
   "source": [
    " "
   ]
  },
  {
   "cell_type": "markdown",
   "id": "341e1617",
   "metadata": {},
   "source": [
    " "
   ]
  },
  {
   "cell_type": "markdown",
   "id": "93089709",
   "metadata": {},
   "source": [
    "7. Based on the previously found results, which function fits better?"
   ]
  },
  {
   "cell_type": "markdown",
   "id": "db3e4bfd",
   "metadata": {},
   "source": [
    " "
   ]
  },
  {
   "cell_type": "markdown",
   "id": "16ce4a4a",
   "metadata": {},
   "source": [
    " "
   ]
  },
  {
   "cell_type": "markdown",
   "id": "ce743ffc",
   "metadata": {},
   "source": [
    " "
   ]
  },
  {
   "cell_type": "markdown",
   "id": "747b1ad5",
   "metadata": {},
   "source": [
    " "
   ]
  },
  {
   "cell_type": "markdown",
   "id": "9166a967",
   "metadata": {},
   "source": [
    " "
   ]
  },
  {
   "cell_type": "markdown",
   "id": "c4dddff1",
   "metadata": {},
   "source": [
    " "
   ]
  },
  {
   "cell_type": "code",
   "execution_count": null,
   "id": "c12d62e8",
   "metadata": {},
   "outputs": [],
   "source": [
    "a1,b1,c1 = result1.x\n",
    "a2,b2,c2 = result2.x\n",
    "\n",
    "\n",
    "f1_v = f1(x, a1, b1, c1)\n",
    "f2_v  = f2(x, a2, b2, c2)\n",
    "\n",
    "plt.errorbar(x,y, yerr=y_err, marker='o', linestyle='none', label='data', color='k')\n",
    "plt.plot(x, f1_v, '-', color='r', lw=2,alpha=0.7, label='parabola')\n",
    "plt.plot(x, f2_v, '-', color='b', lw=2,alpha=0.7, label='sine')\n",
    "plt.legend()"
   ]
  },
  {
   "cell_type": "markdown",
   "id": "9ca494d4",
   "metadata": {},
   "source": [
    " "
   ]
  },
  {
   "cell_type": "markdown",
   "id": "ff88e688",
   "metadata": {},
   "source": [
    " "
   ]
  },
  {
   "cell_type": "markdown",
   "id": "52dc31bb",
   "metadata": {},
   "source": [
    " "
   ]
  },
  {
   "cell_type": "markdown",
   "id": "09cba25b",
   "metadata": {},
   "source": [
    "## Interpolation"
   ]
  },
  {
   "cell_type": "markdown",
   "id": "3a1caa1f",
   "metadata": {},
   "source": [
    "8. What is interpolation? In what cases do we need it?"
   ]
  },
  {
   "cell_type": "markdown",
   "id": "d932ec84",
   "metadata": {},
   "source": [
    " "
   ]
  },
  {
   "cell_type": "markdown",
   "id": "e0c468cc",
   "metadata": {},
   "source": [
    " "
   ]
  },
  {
   "cell_type": "markdown",
   "id": "67488245",
   "metadata": {},
   "source": [
    " "
   ]
  },
  {
   "cell_type": "markdown",
   "id": "636b384c",
   "metadata": {},
   "source": [
    " "
   ]
  },
  {
   "cell_type": "markdown",
   "id": "815c1015",
   "metadata": {},
   "source": [
    "9. What is extrapolation? When do we need it?"
   ]
  },
  {
   "cell_type": "markdown",
   "id": "aeba6b7b",
   "metadata": {},
   "source": [
    " "
   ]
  },
  {
   "cell_type": "markdown",
   "id": "c8ad866b",
   "metadata": {},
   "source": [
    " "
   ]
  },
  {
   "cell_type": "markdown",
   "id": "f511aa01",
   "metadata": {},
   "source": [
    " "
   ]
  },
  {
   "cell_type": "markdown",
   "id": "8c749baf",
   "metadata": {},
   "source": [
    "Let's imagine that we numerically calculated some model values. Numerically means that we always operate with a finite amount of points. Now we compare our model to the data and want to estimate how good is the fit, e.g. by calculating $\\chi^2$. See the plot below."
   ]
  },
  {
   "cell_type": "code",
   "execution_count": null,
   "id": "0b989936",
   "metadata": {},
   "outputs": [],
   "source": [
    "calc_x = np.linspace(0, 5, 15)\n",
    "calc_y = f2(calc_x,a_b, b_b, c_b)"
   ]
  },
  {
   "cell_type": "code",
   "execution_count": null,
   "id": "062afb42",
   "metadata": {},
   "outputs": [],
   "source": [
    "plt.errorbar(x,y, yerr=y_err, marker='o', linestyle='none', label='data')\n",
    "plt.scatter(calc_x, calc_y, color='r')"
   ]
  },
  {
   "cell_type": "markdown",
   "id": "e8715cdb",
   "metadata": {},
   "source": [
    " "
   ]
  },
  {
   "cell_type": "markdown",
   "id": "62bb916b",
   "metadata": {},
   "source": [
    " "
   ]
  },
  {
   "cell_type": "markdown",
   "id": "b5ea052c",
   "metadata": {},
   "source": [
    "10. What is the algorithm to calculate $\\chi^2$ given that you have two sets of points: ($x_{data}$ , $y_{data}$) and ($x_{model}$ , $y_{model}$)?"
   ]
  },
  {
   "cell_type": "markdown",
   "id": "2145f468",
   "metadata": {},
   "source": [
    " "
   ]
  },
  {
   "cell_type": "markdown",
   "id": "35c88b20",
   "metadata": {},
   "source": [
    " "
   ]
  },
  {
   "cell_type": "markdown",
   "id": "6aee8b06",
   "metadata": {},
   "source": [
    " "
   ]
  },
  {
   "cell_type": "markdown",
   "id": "e9103826",
   "metadata": {},
   "source": [
    " "
   ]
  },
  {
   "cell_type": "markdown",
   "id": "598053e4",
   "metadata": {},
   "source": [
    " "
   ]
  },
  {
   "cell_type": "markdown",
   "id": "8a5e938b",
   "metadata": {},
   "source": [
    "11. How to fix the following code?"
   ]
  },
  {
   "cell_type": "code",
   "execution_count": null,
   "id": "a2d050a2",
   "metadata": {},
   "outputs": [],
   "source": [
    "spl = interpolate.CubicSpline(x, y)"
   ]
  },
  {
   "cell_type": "markdown",
   "id": "e781a4eb",
   "metadata": {},
   "source": [
    " "
   ]
  },
  {
   "cell_type": "markdown",
   "id": "19e85399",
   "metadata": {},
   "source": [
    " "
   ]
  },
  {
   "cell_type": "markdown",
   "id": "90a9251f",
   "metadata": {},
   "source": [
    " "
   ]
  },
  {
   "cell_type": "markdown",
   "id": "e9c8ef46",
   "metadata": {},
   "source": [
    " "
   ]
  },
  {
   "cell_type": "markdown",
   "id": "c38e2e3a",
   "metadata": {},
   "source": [
    " "
   ]
  },
  {
   "cell_type": "markdown",
   "id": "03b2958b",
   "metadata": {},
   "source": [
    " "
   ]
  },
  {
   "cell_type": "markdown",
   "id": "f0bf5c1f",
   "metadata": {},
   "source": [
    "12. We want to check that interoplation works as expected by plotting the points between the original theoretical model points. What to change in the following code to do this?"
   ]
  },
  {
   "cell_type": "code",
   "execution_count": null,
   "id": "d08bfb4b",
   "metadata": {},
   "outputs": [],
   "source": [
    "spline_x = np.linspace(0, 5, 100)\n",
    "plt.errorbar(x,y, yerr=y_err, marker='o', linestyle='none', label='data')\n",
    "plt.plot(spline_x, spl(x), color='r')"
   ]
  },
  {
   "cell_type": "markdown",
   "id": "32017d4b",
   "metadata": {},
   "source": [
    " "
   ]
  },
  {
   "cell_type": "markdown",
   "id": "12a85bdd",
   "metadata": {},
   "source": [
    " "
   ]
  },
  {
   "cell_type": "markdown",
   "id": "6e81b9a9",
   "metadata": {},
   "source": [
    "13. How to calculate the value of $\\chi^2$ using the previously defined spline function?"
   ]
  },
  {
   "cell_type": "code",
   "execution_count": null,
   "id": "c2d5e368",
   "metadata": {},
   "outputs": [],
   "source": [
    "spl = interpolate.CubicSpline(calc_x, calc_y)\n",
    "\n",
    "(1/(len(x)-3+1))*np.sum()"
   ]
  },
  {
   "cell_type": "markdown",
   "id": "1c189a98",
   "metadata": {},
   "source": [
    " "
   ]
  },
  {
   "cell_type": "markdown",
   "id": "a318da47",
   "metadata": {},
   "source": [
    " "
   ]
  },
  {
   "cell_type": "markdown",
   "id": "f7a790f3",
   "metadata": {},
   "source": [
    " "
   ]
  },
  {
   "cell_type": "markdown",
   "id": "217df298",
   "metadata": {},
   "source": [
    " "
   ]
  },
  {
   "cell_type": "markdown",
   "id": "ffb0048d",
   "metadata": {},
   "source": [
    "## Mechanical motion"
   ]
  },
  {
   "cell_type": "markdown",
   "id": "df506343",
   "metadata": {},
   "source": [
    "Imagine that a position of the body is defined as a function of time as\n",
    "\n",
    "$$ x (t) = t^3 - 4t^2 + 5t -2$$"
   ]
  },
  {
   "cell_type": "markdown",
   "id": "0e65c22b",
   "metadata": {},
   "source": [
    " "
   ]
  },
  {
   "cell_type": "markdown",
   "id": "19f5d664",
   "metadata": {},
   "source": [
    " "
   ]
  },
  {
   "cell_type": "markdown",
   "id": "21927317",
   "metadata": {},
   "source": [
    "14. How to find its velosity and acceleration as a function of time?"
   ]
  },
  {
   "cell_type": "markdown",
   "id": "70088c99",
   "metadata": {},
   "source": [
    " "
   ]
  },
  {
   "cell_type": "markdown",
   "id": "37dd1b59",
   "metadata": {},
   "source": [
    " "
   ]
  },
  {
   "cell_type": "markdown",
   "id": "a1f4055e",
   "metadata": {},
   "source": [
    " "
   ]
  },
  {
   "cell_type": "markdown",
   "id": "9a0ab938",
   "metadata": {},
   "source": [
    "15. What is wrong in the following code snippet and how to fix it?"
   ]
  },
  {
   "cell_type": "code",
   "execution_count": null,
   "id": "d8b3f005",
   "metadata": {},
   "outputs": [],
   "source": [
    "def x(t):\n",
    "    return t**3 - 10*t**2 - 10*t + 2\n",
    "\n",
    "def v(t):\n",
    "    return derivative(x, t, dx=1e-3)\n",
    "\n",
    "def a(t):\n",
    "    return derivative(x, t, dx=1e-3)"
   ]
  },
  {
   "cell_type": "markdown",
   "id": "c3362b44",
   "metadata": {},
   "source": [
    " "
   ]
  },
  {
   "cell_type": "markdown",
   "id": "c8af6558",
   "metadata": {},
   "source": [
    " "
   ]
  },
  {
   "cell_type": "code",
   "execution_count": null,
   "id": "a0ada55c",
   "metadata": {},
   "outputs": [],
   "source": [
    "t = np.linspace(0, 10, 100)\n",
    "plt.plot(t,x(t), label='x, m')\n",
    "plt.plot(t,v(t), label='v, m/c')\n",
    "plt.plot(t,a(t), label=r\"a, m/s$^2$\")\n",
    "plt.xlabel('t, s')\n",
    "plt.ylabel('displacement, speed, acceleration')\n",
    "plt.grid()\n",
    "plt.legend()"
   ]
  },
  {
   "cell_type": "markdown",
   "id": "0d10de55",
   "metadata": {},
   "source": [
    " "
   ]
  },
  {
   "cell_type": "markdown",
   "id": "b04387ad",
   "metadata": {},
   "source": [
    " "
   ]
  },
  {
   "cell_type": "markdown",
   "id": "5df64451",
   "metadata": {},
   "source": [
    " "
   ]
  },
  {
   "cell_type": "markdown",
   "id": "b3be36ca",
   "metadata": {},
   "source": [
    "## Center of the mass calculation"
   ]
  },
  {
   "cell_type": "markdown",
   "id": "41a14784",
   "metadata": {},
   "source": [
    "Imagine there is a cone with radius R = 1 and height H = 4. It is made from non-homogeneous material which density depends only on the height as\n",
    "\n",
    "$$\\rho (z) = \\frac{5}{z+1}$$\n",
    "\n",
    "The center of mass can be calculated as\n",
    "\n",
    "$$z_{CM} = \\frac{1}{M} \\int_0^H z \\rho dV = \\frac{1}{M} \\int_0^H z \\rho(z) A(z) dz $$\n",
    "\n",
    "M is the total mass; $A(z)$ can be expressed as\n",
    "\n",
    "$$A(z) = \\pi r(z)^2$$\n",
    "with\n",
    "$$r(z) = R (1 - \\frac{z}{H})$$"
   ]
  },
  {
   "cell_type": "markdown",
   "id": "d93ee1f3",
   "metadata": {},
   "source": [
    " "
   ]
  },
  {
   "cell_type": "markdown",
   "id": "a90ec532",
   "metadata": {},
   "source": [
    " "
   ]
  },
  {
   "cell_type": "markdown",
   "id": "b38ac8fe",
   "metadata": {},
   "source": [
    " "
   ]
  },
  {
   "cell_type": "markdown",
   "id": "aa1460b2",
   "metadata": {},
   "source": [
    "16. How to calculate total mass?"
   ]
  },
  {
   "cell_type": "markdown",
   "id": "9df92c2e",
   "metadata": {},
   "source": [
    " "
   ]
  },
  {
   "cell_type": "markdown",
   "id": "d1d80a08",
   "metadata": {},
   "source": [
    " "
   ]
  },
  {
   "cell_type": "markdown",
   "id": "5ebda33b",
   "metadata": {},
   "source": [
    " "
   ]
  },
  {
   "cell_type": "markdown",
   "id": "0d1571c7",
   "metadata": {},
   "source": [
    " "
   ]
  },
  {
   "cell_type": "markdown",
   "id": "8e3b9fc6",
   "metadata": {},
   "source": [
    " "
   ]
  },
  {
   "cell_type": "markdown",
   "id": "45e5b6cd",
   "metadata": {},
   "source": [
    "17. The expression under the integral is a multipliation of 2-3 functions. How to integrate it **without** defining new function?"
   ]
  },
  {
   "cell_type": "code",
   "execution_count": null,
   "id": "02dc43a1",
   "metadata": {},
   "outputs": [],
   "source": [
    "R = 1\n",
    "H = 4\n",
    "\n",
    "def rho(z):\n",
    "    return 5/(z+1)\n",
    "\n",
    "def area(z):\n",
    "    radius = R * (1 - z / h)\n",
    "    return np.pi * radius**2\n",
    "\n",
    "\n",
    "\n",
    "M, M_err = integrate.quad(, 0, H)\n",
    "z, z_err = integrate.quad(, 0, H)\n"
   ]
  },
  {
   "cell_type": "code",
   "execution_count": null,
   "id": "cf666741",
   "metadata": {},
   "outputs": [],
   "source": [
    "print(f\"Total mass: {M}, with precision up to {M_err}\")\n",
    "print(f\"Center of the mass is located at {z/M:.2f} cm, with precision up to {z_err/M:.2f} cm\")"
   ]
  },
  {
   "cell_type": "markdown",
   "id": "c8397564",
   "metadata": {},
   "source": [
    " "
   ]
  },
  {
   "cell_type": "markdown",
   "id": "c90a378e",
   "metadata": {},
   "source": [
    " "
   ]
  },
  {
   "cell_type": "markdown",
   "id": "18bccebc",
   "metadata": {},
   "source": [
    " "
   ]
  },
  {
   "cell_type": "markdown",
   "id": "ffba9148",
   "metadata": {},
   "source": [
    " "
   ]
  },
  {
   "cell_type": "markdown",
   "id": "334ef64a",
   "metadata": {},
   "source": [
    "# Befriend pandas"
   ]
  },
  {
   "cell_type": "markdown",
   "id": "3fe940ae",
   "metadata": {},
   "source": [
    "One of the most useful libraries to work with data is `pandas`. We will friefly look into:\n",
    "- saving data into csv\n",
    "- loading csv\n",
    "- basic operations with series\n",
    "\n",
    "You will learn more during the next lecture!"
   ]
  },
  {
   "cell_type": "markdown",
   "id": "a3a1a582",
   "metadata": {},
   "source": [
    " "
   ]
  },
  {
   "cell_type": "markdown",
   "id": "7be3bf75",
   "metadata": {},
   "source": [
    " "
   ]
  },
  {
   "cell_type": "markdown",
   "id": "d9260e89",
   "metadata": {},
   "source": [
    "18. Imagine you have a data that you want to send to your friend. What format would you choose and why?"
   ]
  },
  {
   "cell_type": "markdown",
   "id": "03a3e806",
   "metadata": {},
   "source": [
    " "
   ]
  },
  {
   "cell_type": "markdown",
   "id": "11411661",
   "metadata": {},
   "source": [
    " "
   ]
  },
  {
   "cell_type": "markdown",
   "id": "cb202fba",
   "metadata": {},
   "source": [
    " "
   ]
  },
  {
   "cell_type": "markdown",
   "id": "14520d08",
   "metadata": {},
   "source": [
    " "
   ]
  },
  {
   "cell_type": "markdown",
   "id": "9d8cafda",
   "metadata": {},
   "source": [
    " "
   ]
  },
  {
   "cell_type": "code",
   "execution_count": null,
   "id": "cfe7a97f",
   "metadata": {},
   "outputs": [],
   "source": [
    "x = np.asarray([0, 0.444, 0.889, 1.33, 1.778, 2.222, 2.667, 3.111, 3.556, 4.])\n",
    "y = np.asarray([0, 0.546, 1.29, 1.85, 2.24, 2.689, 2.916,  2.999, 2.935, 2.728])\n",
    "y_err = np.asarray([0.26, 0.41, 0.24, 0.49, 0.21, 0.45, 0.66, 0.67 , 0.26, 0.27])"
   ]
  },
  {
   "cell_type": "markdown",
   "id": "b1d61a72",
   "metadata": {},
   "source": [
    "The easiest way to convert a couple of arrays into `pandas.DataFrame` is either via dictionary or by `data = [x, y, y_err]` and manually add column names to the DataFrame.  "
   ]
  },
  {
   "cell_type": "code",
   "execution_count": null,
   "id": "f3e5e5f4",
   "metadata": {},
   "outputs": [],
   "source": [
    "data = {'x':x, 'y':y, 'y_err':y_err}\n",
    "df = pd.DataFrame(data)"
   ]
  },
  {
   "cell_type": "code",
   "execution_count": null,
   "id": "286d5651",
   "metadata": {
    "scrolled": true
   },
   "outputs": [],
   "source": [
    "df"
   ]
  },
  {
   "cell_type": "markdown",
   "id": "b8dc9c33",
   "metadata": {},
   "source": [
    "We can easili save as as `.csv` by"
   ]
  },
  {
   "cell_type": "code",
   "execution_count": null,
   "id": "92b7be05",
   "metadata": {},
   "outputs": [],
   "source": [
    "df.to_csv('ex1_data.csv', header=list(df.columns.values), index=False)"
   ]
  },
  {
   "cell_type": "markdown",
   "id": "55b9ed06",
   "metadata": {},
   "source": [
    "`pandas` is the most compact and convenient way to work with table-like structures (recall all your file reading/writing experience, data type conversions and `csv.reader`). We load CSV as following"
   ]
  },
  {
   "cell_type": "code",
   "execution_count": null,
   "id": "559cd3cc",
   "metadata": {},
   "outputs": [],
   "source": [
    "df2 = pd.read_csv('ex1_data.csv')"
   ]
  },
  {
   "cell_type": "code",
   "execution_count": null,
   "id": "7fdd7ac9",
   "metadata": {},
   "outputs": [],
   "source": [
    "df2"
   ]
  },
  {
   "cell_type": "markdown",
   "id": "d0c295f3",
   "metadata": {},
   "source": [
    "Operations with the columns look similar to operations with dictionaries. Each column (called series) is a numpy array."
   ]
  },
  {
   "cell_type": "code",
   "execution_count": null,
   "id": "dce2e62e",
   "metadata": {},
   "outputs": [],
   "source": [
    "df2['x']"
   ]
  },
  {
   "cell_type": "code",
   "execution_count": null,
   "id": "f0adc860",
   "metadata": {},
   "outputs": [],
   "source": [
    "df2['x']**2"
   ]
  },
  {
   "cell_type": "markdown",
   "id": "253f6c51",
   "metadata": {},
   "source": [
    " "
   ]
  },
  {
   "cell_type": "markdown",
   "id": "263f7dd3",
   "metadata": {},
   "source": [
    " "
   ]
  },
  {
   "cell_type": "markdown",
   "id": "2874f142",
   "metadata": {},
   "source": [
    " "
   ]
  },
  {
   "cell_type": "markdown",
   "id": "98d7f3cf",
   "metadata": {},
   "source": [
    " "
   ]
  },
  {
   "cell_type": "markdown",
   "id": "f9044e90",
   "metadata": {},
   "source": [
    " "
   ]
  },
  {
   "cell_type": "markdown",
   "id": "752408a7",
   "metadata": {},
   "source": [
    " "
   ]
  },
  {
   "cell_type": "markdown",
   "id": "d5766edc",
   "metadata": {},
   "source": [
    "This is the final tutorial of our 'Python for Physicists' course. Next week marks the conclusion of the lectures. And here is where your journey **begins**!\n",
    "\n",
    "> If you find that you're spending almost all your time on theory, start turning some attention to practical things; it will improve your theories. If you find that you’re spending almost all your time on practice, start turning some attention to theoretical things; it will improve your practice. \n",
    "-- Donald Knuth\n"
   ]
  },
  {
   "cell_type": "markdown",
   "id": "815c7338",
   "metadata": {},
   "source": [
    "Happy programming!"
   ]
  },
  {
   "cell_type": "markdown",
   "id": "a6deac37",
   "metadata": {},
   "source": [
    " "
   ]
  }
 ],
 "metadata": {
  "kernelspec": {
   "display_name": "Python 3 (ipykernel)",
   "language": "python",
   "name": "python3"
  },
  "language_info": {
   "codemirror_mode": {
    "name": "ipython",
    "version": 3
   },
   "file_extension": ".py",
   "mimetype": "text/x-python",
   "name": "python",
   "nbconvert_exporter": "python",
   "pygments_lexer": "ipython3",
   "version": "3.8.8"
  }
 },
 "nbformat": 4,
 "nbformat_minor": 5
}
