{
 "cells": [
  {
   "cell_type": "markdown",
   "id": "c94c899b",
   "metadata": {},
   "source": [
    "# Lecture 11: Data analysis with ```pandas```"
   ]
  },
  {
   "cell_type": "code",
   "execution_count": null,
   "id": "65c2bc4c",
   "metadata": {},
   "outputs": [],
   "source": [
    "import pandas as pd\n",
    "import numpy as np\n",
    "\n",
    "import matplotlib.pyplot as plt"
   ]
  },
  {
   "cell_type": "markdown",
   "id": "2f1281ef",
   "metadata": {},
   "source": [
    "In the Lecture 5, you have already looked into ```csv.reader``` which converts data from CSV files into python strings. Working with this type of data is not always convenient. \n",
    "\n",
    "### Pandas\n",
    " - library for data manipulation and analysis\n",
    " - imports data from CSV, JSON, SQL, Excel etc.\n",
    " - built on top of ```numpy```\n",
    " - most machine learning tools support ```pandas``` $\\rightarrow$ used for data preprocessing in machine learning\n",
    " "
   ]
  },
  {
   "cell_type": "markdown",
   "id": "b1e66b2a",
   "metadata": {},
   "source": [
    "## Reading the data file"
   ]
  },
  {
   "cell_type": "markdown",
   "id": "65f4558b",
   "metadata": {},
   "source": [
    "### Isotope database\n",
    "\n",
    "As an example, we will work with ```isotope_data.csv``` that was generated from https://www-nds.iaea.org/relnsd/vcharthtml/VChartHTML.html\n",
    "\n",
    "This database contains information on physical properties of most of the known isotopes (but not all!)"
   ]
  },
  {
   "cell_type": "code",
   "execution_count": null,
   "id": "ab2868ee",
   "metadata": {},
   "outputs": [],
   "source": [
    "df = pd.read_csv(\"isotope_data.csv\")"
   ]
  },
  {
   "cell_type": "markdown",
   "id": "90451bf2",
   "metadata": {},
   "source": [
    "If you already know the content of the file and you don't need all the columns, you can read the file more efficiently with \n",
    "\n",
    "```usecols = ['column1', 'column2', 'column3']```"
   ]
  },
  {
   "cell_type": "code",
   "execution_count": null,
   "id": "51f9151d",
   "metadata": {
    "scrolled": true
   },
   "outputs": [],
   "source": [
    "df"
   ]
  },
  {
   "cell_type": "code",
   "execution_count": null,
   "id": "0950b2c1",
   "metadata": {},
   "outputs": [],
   "source": [
    "type(df)"
   ]
  },
  {
   "cell_type": "code",
   "execution_count": null,
   "id": "31fc5659",
   "metadata": {},
   "outputs": [],
   "source": [
    "df['Z']"
   ]
  },
  {
   "cell_type": "code",
   "execution_count": null,
   "id": "959f8e6d",
   "metadata": {},
   "outputs": [],
   "source": [
    "type(df['Z'])"
   ]
  },
  {
   "cell_type": "markdown",
   "id": "ee0ab665",
   "metadata": {},
   "source": [
    "### What is inside?"
   ]
  },
  {
   "cell_type": "code",
   "execution_count": null,
   "id": "116d7596",
   "metadata": {
    "scrolled": true
   },
   "outputs": [],
   "source": [
    "print(df.info())"
   ]
  },
  {
   "cell_type": "code",
   "execution_count": null,
   "id": "ca6c78af",
   "metadata": {},
   "outputs": [],
   "source": [
    "df.describe()"
   ]
  },
  {
   "cell_type": "code",
   "execution_count": null,
   "id": "0def1e67",
   "metadata": {
    "scrolled": true
   },
   "outputs": [],
   "source": [
    "df.head()"
   ]
  },
  {
   "cell_type": "markdown",
   "id": "eb5bb160-df90-48e1-9eba-aff3a3b86f3f",
   "metadata": {},
   "source": [
    "We can also specify how many rows we want to see with head() (and tail())."
   ]
  },
  {
   "cell_type": "code",
   "execution_count": null,
   "id": "a59279d4-b719-4c91-92d1-48184d665a70",
   "metadata": {},
   "outputs": [],
   "source": [
    "df.head(3)"
   ]
  },
  {
   "cell_type": "code",
   "execution_count": null,
   "id": "d489cd94",
   "metadata": {
    "scrolled": true
   },
   "outputs": [],
   "source": [
    "df.tail()"
   ]
  },
  {
   "cell_type": "code",
   "execution_count": null,
   "id": "c3c8e3ea",
   "metadata": {},
   "outputs": [],
   "source": [
    "df.shape"
   ]
  },
  {
   "cell_type": "code",
   "execution_count": null,
   "id": "74741313",
   "metadata": {},
   "outputs": [],
   "source": [
    "df.columns"
   ]
  },
  {
   "cell_type": "markdown",
   "id": "4ae9bfab",
   "metadata": {},
   "source": [
    "## Selecting data from the table"
   ]
  },
  {
   "cell_type": "markdown",
   "id": "227f64d4",
   "metadata": {},
   "source": [
    "### Selecting columns"
   ]
  },
  {
   "cell_type": "code",
   "execution_count": null,
   "id": "d4c5a003",
   "metadata": {},
   "outputs": [],
   "source": [
    "df[[\"Z\",\"N\"]]"
   ]
  },
  {
   "cell_type": "code",
   "execution_count": null,
   "id": "edb2cb84",
   "metadata": {},
   "outputs": [],
   "source": [
    "df.iloc[:, 1]"
   ]
  },
  {
   "cell_type": "code",
   "execution_count": null,
   "id": "da27b391",
   "metadata": {},
   "outputs": [],
   "source": [
    "df.loc[:, \"N\"]"
   ]
  },
  {
   "cell_type": "markdown",
   "id": "b169067e",
   "metadata": {},
   "source": [
    "### Selecting rows"
   ]
  },
  {
   "cell_type": "code",
   "execution_count": null,
   "id": "572acd4e",
   "metadata": {
    "scrolled": true
   },
   "outputs": [],
   "source": [
    "df.loc[2:3]"
   ]
  },
  {
   "cell_type": "code",
   "execution_count": null,
   "id": "a31854f2",
   "metadata": {},
   "outputs": [],
   "source": [
    "df.iloc[2:3]"
   ]
  },
  {
   "cell_type": "markdown",
   "id": "8ddfc174",
   "metadata": {},
   "source": [
    "### Selecting a range from the table"
   ]
  },
  {
   "cell_type": "code",
   "execution_count": null,
   "id": "ce06700f",
   "metadata": {},
   "outputs": [],
   "source": [
    "df.loc[2:5, [\"Z\",\"N\",\"symbol\" ,\"radius [fm]\",\"half_life\"]]"
   ]
  },
  {
   "cell_type": "code",
   "execution_count": null,
   "id": "63b34366",
   "metadata": {},
   "outputs": [],
   "source": [
    "df.iloc[2:6, [0,1,2,3,12]]"
   ]
  },
  {
   "cell_type": "markdown",
   "id": "5f3122b5",
   "metadata": {},
   "source": [
    "### Selecting by condition"
   ]
  },
  {
   "cell_type": "code",
   "execution_count": null,
   "id": "3c355f85",
   "metadata": {
    "scrolled": true
   },
   "outputs": [],
   "source": [
    "df[df['half_life']=='STABLE'] #selecting only stable isotopes"
   ]
  },
  {
   "cell_type": "code",
   "execution_count": null,
   "id": "18907996",
   "metadata": {
    "scrolled": true
   },
   "outputs": [],
   "source": [
    "df[df['symbol']=='Ra'][['symbol', 'radius [fm]',' half_life [s]']]"
   ]
  },
  {
   "cell_type": "code",
   "execution_count": null,
   "id": "ba838f87",
   "metadata": {
    "scrolled": true
   },
   "outputs": [],
   "source": [
    "df[(df['half_life']=='STABLE')&(df['N']>120)]"
   ]
  },
  {
   "cell_type": "markdown",
   "id": "46e3479d",
   "metadata": {},
   "source": [
    "## Manipulating the dataframe "
   ]
  },
  {
   "cell_type": "markdown",
   "id": "24a4ed0f-b4a2-4f8c-a7e9-6895036ff7d2",
   "metadata": {},
   "source": [
    "### Making a reduced version of the original dataframe"
   ]
  },
  {
   "cell_type": "code",
   "execution_count": null,
   "id": "22ce43f3",
   "metadata": {},
   "outputs": [],
   "source": [
    "df.columns"
   ]
  },
  {
   "cell_type": "code",
   "execution_count": null,
   "id": "33f0f868",
   "metadata": {},
   "outputs": [],
   "source": [
    "df_reduced = df[['Z', 'N', 'symbol', 'radius [fm]',' abundance [mole fract.]',' half_life [s]','atomic mass [AMU * 1.E-3 ]',' discovery']]\n",
    "\n",
    "\n",
    "# please note, that doing df = df[[\"column1\", \"column2\", ...]] is a bad style that leads to many possible errors!"
   ]
  },
  {
   "cell_type": "code",
   "execution_count": null,
   "id": "dfc4776e",
   "metadata": {
    "scrolled": true
   },
   "outputs": [],
   "source": [
    "df_reduced"
   ]
  },
  {
   "cell_type": "markdown",
   "id": "7260c748",
   "metadata": {},
   "source": [
    "### Rename columns"
   ]
  },
  {
   "cell_type": "code",
   "execution_count": null,
   "id": "e730294c",
   "metadata": {
    "scrolled": true
   },
   "outputs": [],
   "source": [
    "df_reduced.rename({'radius [fm]': 'R_fm', ' abundance [mole fract.]': 'abund.',' half_life [s]':'tau', 'atomic mass [AMU * 1.E-3 ]':'A', ' discovery':'year'}, axis=1)"
   ]
  },
  {
   "cell_type": "code",
   "execution_count": null,
   "id": "19a03935-2c22-41f9-b39f-c7201d22ff64",
   "metadata": {},
   "outputs": [],
   "source": [
    "df_reduced = df_reduced.rename({'radius [fm]': 'R_fm', ' abundance [mole fract.]': 'abund.',' half_life [s]':'tau', 'atomic mass [AMU * 1.E-3 ]':'A', ' discovery':'year'}, axis=1)"
   ]
  },
  {
   "cell_type": "markdown",
   "id": "5753481d-b26c-4211-aae8-07e40f9deeb3",
   "metadata": {},
   "source": [
    "### Perform an operation on column contents"
   ]
  },
  {
   "cell_type": "code",
   "execution_count": null,
   "id": "77524934",
   "metadata": {},
   "outputs": [],
   "source": [
    "df_reduced['A'] = df_reduced['A']/1e6"
   ]
  },
  {
   "cell_type": "code",
   "execution_count": null,
   "id": "3338e3eb",
   "metadata": {
    "scrolled": true
   },
   "outputs": [],
   "source": [
    "df_reduced"
   ]
  },
  {
   "cell_type": "markdown",
   "id": "113157cc-dfdf-49be-8510-09395c51682d",
   "metadata": {},
   "source": [
    "You can also add/subtract/multiply/divide columns together (in this case it doesn't make sense, but as an example)"
   ]
  },
  {
   "cell_type": "code",
   "execution_count": null,
   "id": "5afe7cfb-e217-4413-82b0-ff7cf498ccd9",
   "metadata": {},
   "outputs": [],
   "source": [
    "df_reduced['R_fm'] * df_reduced['tau']"
   ]
  },
  {
   "cell_type": "markdown",
   "id": "22d5f7e8",
   "metadata": {},
   "source": [
    "### Add a row "
   ]
  },
  {
   "cell_type": "markdown",
   "id": "00f79cea-7255-4cdd-82dc-e460d00de7ad",
   "metadata": {},
   "source": [
    "New rows can be added with concat()."
   ]
  },
  {
   "cell_type": "code",
   "execution_count": null,
   "id": "b24b9ab7-e7c4-47e0-8533-e47df260b46f",
   "metadata": {},
   "outputs": [],
   "source": [
    "df_reduced.columns"
   ]
  },
  {
   "cell_type": "code",
   "execution_count": null,
   "id": "f0cce1ea-6975-449b-b2d2-7ecf1b4acbb4",
   "metadata": {},
   "outputs": [],
   "source": [
    "new_isotope = pd.DataFrame({\"Z\": [0], \"N\": [1], \"symbol\": ['n'], \"R_fm\": [-0.1149], \"abund.\": ['NaN'], \"tau\": [6.139000e+02], \"A\": [1.008665], \"year\": ['NaN']})\n",
    "new_isotope"
   ]
  },
  {
   "cell_type": "code",
   "execution_count": null,
   "id": "c4b905c0-3fb8-46f6-ba4b-a18a7e1ae4d3",
   "metadata": {},
   "outputs": [],
   "source": [
    "df_newrow = pd.concat([df_reduced, new_isotope], ignore_index=True)\n",
    "df_newrow"
   ]
  },
  {
   "cell_type": "markdown",
   "id": "726be084-9686-4f74-a242-cb1710bc1e75",
   "metadata": {},
   "source": [
    "### Add a column, modify contents of a column"
   ]
  },
  {
   "cell_type": "code",
   "execution_count": null,
   "id": "0c7a832f-520e-44c0-a8af-147cc48534e1",
   "metadata": {},
   "outputs": [],
   "source": [
    "df_reduced"
   ]
  },
  {
   "cell_type": "code",
   "execution_count": null,
   "id": "be18dfcc",
   "metadata": {},
   "outputs": [],
   "source": [
    "df_reduced['stability']=df_reduced['tau'].isnull()"
   ]
  },
  {
   "cell_type": "code",
   "execution_count": null,
   "id": "5b195b60",
   "metadata": {},
   "outputs": [],
   "source": [
    "df_reduced"
   ]
  },
  {
   "cell_type": "code",
   "execution_count": null,
   "id": "38f82d9c",
   "metadata": {},
   "outputs": [],
   "source": [
    "df_reduced['stability2']=df_reduced['tau'].isnull()"
   ]
  },
  {
   "cell_type": "code",
   "execution_count": null,
   "id": "d06c802f-3d69-4cb3-a565-52aeed2c4ac1",
   "metadata": {},
   "outputs": [],
   "source": [
    "df_reduced"
   ]
  },
  {
   "cell_type": "code",
   "execution_count": null,
   "id": "0fe1d442",
   "metadata": {},
   "outputs": [],
   "source": [
    "df_reduced.loc[df_reduced.shape[0]] = np.ones(df_reduced.shape[1])"
   ]
  },
  {
   "cell_type": "code",
   "execution_count": null,
   "id": "ba223708",
   "metadata": {
    "scrolled": true
   },
   "outputs": [],
   "source": [
    "df_reduced"
   ]
  },
  {
   "cell_type": "markdown",
   "id": "cb3a0d05-3a7f-421b-af02-1b42a3ef8ee2",
   "metadata": {},
   "source": [
    "### Remove a column"
   ]
  },
  {
   "cell_type": "code",
   "execution_count": null,
   "id": "508e014e",
   "metadata": {},
   "outputs": [],
   "source": [
    "df_reduced=df_reduced.drop('stability2',axis=1)"
   ]
  },
  {
   "cell_type": "code",
   "execution_count": null,
   "id": "8c293b4a-e053-4ea2-8718-d9da519d7148",
   "metadata": {},
   "outputs": [],
   "source": [
    "df_reduced"
   ]
  },
  {
   "cell_type": "markdown",
   "id": "4187d472-0804-4e41-b883-39ec45f0add2",
   "metadata": {},
   "source": [
    "### Remove a row"
   ]
  },
  {
   "cell_type": "code",
   "execution_count": null,
   "id": "4c10d5a5-cf4d-475d-8aef-29a49d8c1781",
   "metadata": {},
   "outputs": [],
   "source": [
    "df_reduced=df_reduced.drop([df_reduced.shape[0]-1])"
   ]
  },
  {
   "cell_type": "code",
   "execution_count": null,
   "id": "673d214c",
   "metadata": {
    "scrolled": true
   },
   "outputs": [],
   "source": [
    "df_reduced"
   ]
  },
  {
   "cell_type": "markdown",
   "id": "bd7333c0-743b-4fa0-8ef6-8a749666af9b",
   "metadata": {},
   "source": [
    "### Column statistics"
   ]
  },
  {
   "cell_type": "markdown",
   "id": "115f9a59-a093-417b-be63-30e5b1d02b30",
   "metadata": {},
   "source": [
    "Note that instances of `NaN` will be automatically removed from the calculation."
   ]
  },
  {
   "cell_type": "code",
   "execution_count": null,
   "id": "cfd776f2-3419-46c0-82fd-c7885125d96b",
   "metadata": {},
   "outputs": [],
   "source": [
    "df_reduced['R_fm'].mean()"
   ]
  },
  {
   "cell_type": "markdown",
   "id": "eff1e887-c95d-45be-a3f6-edde0aadc435",
   "metadata": {},
   "source": [
    "We can specify that we want to keep `NaN` entries."
   ]
  },
  {
   "cell_type": "code",
   "execution_count": null,
   "id": "cd71d9fb-9d3d-446d-ac3e-ab37ea98d5c4",
   "metadata": {},
   "outputs": [],
   "source": [
    "df_reduced['R_fm'].mean(skipna=False)"
   ]
  },
  {
   "cell_type": "markdown",
   "id": "e260b993-5525-4e7d-8557-d11776d75177",
   "metadata": {},
   "source": [
    "If we want the mean of a row, rather than a column, we can do df.mean(axis=1)."
   ]
  },
  {
   "cell_type": "markdown",
   "id": "e1726099",
   "metadata": {},
   "source": [
    "### Saving into a file"
   ]
  },
  {
   "cell_type": "code",
   "execution_count": null,
   "id": "558cdc35",
   "metadata": {},
   "outputs": [],
   "source": [
    "df_stable = df_reduced[df_reduced['stability']==1]\n",
    "df_stable.to_csv(\"stable_isotopes.csv\")\n",
    "\n",
    "\n",
    "df_unstable = df_reduced[df_reduced['stability']==0]\n",
    "df_unstable.to_csv(\"unstable_isotopes.csv\")"
   ]
  },
  {
   "cell_type": "markdown",
   "id": "4c5102af",
   "metadata": {},
   "source": [
    "## Quick analysis tools"
   ]
  },
  {
   "cell_type": "markdown",
   "id": "7381c679",
   "metadata": {},
   "source": [
    "### Histogram"
   ]
  },
  {
   "cell_type": "code",
   "execution_count": null,
   "id": "3207f5b6",
   "metadata": {},
   "outputs": [],
   "source": [
    "df_stable[\"year\"].hist()"
   ]
  },
  {
   "cell_type": "code",
   "execution_count": null,
   "id": "399b6d35",
   "metadata": {},
   "outputs": [],
   "source": [
    "df_unstable[\"year\"].hist()"
   ]
  },
  {
   "cell_type": "code",
   "execution_count": null,
   "id": "9a0ebcdd",
   "metadata": {
    "scrolled": true
   },
   "outputs": [],
   "source": [
    "# same plot with matplotlib\n",
    "\n",
    "plt.hist(df_stable[\"year\"], bins=20)\n",
    "plt.xlabel(\"Year\")\n",
    "plt.ylabel (\"Number of discovered stable isotopes\")"
   ]
  },
  {
   "cell_type": "markdown",
   "id": "b70e09ab",
   "metadata": {},
   "source": [
    "### Scatter plot"
   ]
  },
  {
   "cell_type": "code",
   "execution_count": null,
   "id": "f3ca1e60",
   "metadata": {},
   "outputs": [],
   "source": [
    "df_stable[[\"R_fm\", \"A\"]].plot.scatter(\"A\", \"R_fm\")"
   ]
  },
  {
   "cell_type": "code",
   "execution_count": null,
   "id": "430397c9",
   "metadata": {
    "scrolled": true
   },
   "outputs": [],
   "source": [
    "df_unstable[[\"R_fm\", \"A\"]].plot.scatter(\"A\", \"R_fm\")\n",
    "#plt.plot(df_unstable[\"A\"],1.2*df_unstable['A']**(1/3))\n",
    "#plt.xlim([0,50])"
   ]
  },
  {
   "cell_type": "markdown",
   "id": "57199afb",
   "metadata": {},
   "source": [
    "### Bar plot"
   ]
  },
  {
   "cell_type": "code",
   "execution_count": null,
   "id": "427509b7",
   "metadata": {},
   "outputs": [],
   "source": [
    "df_stable[df_stable['symbol']=='Fe']\n",
    "\n",
    "df_stable[df_stable['symbol']=='Fe'].plot.bar(\"N\",\"abund.\")"
   ]
  },
  {
   "cell_type": "markdown",
   "id": "ec78bb28",
   "metadata": {},
   "source": [
    "### Example 1: finding the most long-living Radium isotope"
   ]
  },
  {
   "cell_type": "code",
   "execution_count": null,
   "id": "9f084573",
   "metadata": {},
   "outputs": [],
   "source": [
    "df_unstable.describe()"
   ]
  },
  {
   "cell_type": "code",
   "execution_count": null,
   "id": "acb2255e",
   "metadata": {},
   "outputs": [],
   "source": [
    "df_radium = df_unstable[df_unstable['symbol']=='Ra']"
   ]
  },
  {
   "cell_type": "code",
   "execution_count": null,
   "id": "bc9178b8",
   "metadata": {},
   "outputs": [],
   "source": [
    "df_radium.loc[df_radium['tau'].idxmax()]"
   ]
  },
  {
   "cell_type": "markdown",
   "id": "75e6cb30",
   "metadata": {},
   "source": [
    "### Example 2: Finding only unstable elements"
   ]
  },
  {
   "cell_type": "code",
   "execution_count": null,
   "id": "ec8bc4a8",
   "metadata": {},
   "outputs": [],
   "source": [
    "df_unstable[~df_unstable['symbol'].isin(df_stable['symbol'])]"
   ]
  },
  {
   "cell_type": "markdown",
   "id": "82ef87b1",
   "metadata": {},
   "source": [
    "### Example 3: ten largest nuclei "
   ]
  },
  {
   "cell_type": "code",
   "execution_count": null,
   "id": "a243ef6b",
   "metadata": {},
   "outputs": [],
   "source": [
    "df_unstable.sort_values(by='R_fm',na_position='first')"
   ]
  },
  {
   "cell_type": "code",
   "execution_count": null,
   "id": "20951bb2",
   "metadata": {},
   "outputs": [],
   "source": [
    "df_unstable.sort_values(by='R_fm',na_position='first').iloc[-10:]"
   ]
  },
  {
   "cell_type": "markdown",
   "id": "6dc5bec6-f0f3-4d24-bfa6-362ded60fcc9",
   "metadata": {},
   "source": [
    "### Example 4: Dealing with missing data"
   ]
  },
  {
   "cell_type": "code",
   "execution_count": null,
   "id": "a34313a0-1780-41c3-ac16-d48298607a0f",
   "metadata": {},
   "outputs": [],
   "source": [
    "df_unstable.dropna()"
   ]
  },
  {
   "cell_type": "code",
   "execution_count": null,
   "id": "f5e073fd-b448-4d56-942c-1446576ea3cb",
   "metadata": {},
   "outputs": [],
   "source": [
    "df_unstable.isna()"
   ]
  },
  {
   "cell_type": "markdown",
   "id": "ae7c62e4-5090-4e5f-803b-b656b0638ddb",
   "metadata": {},
   "source": [
    "# Additional resources"
   ]
  },
  {
   "cell_type": "markdown",
   "id": "04a7d31c-7c55-4329-8bd2-c92a1bd3afb5",
   "metadata": {},
   "source": [
    "It is worth having a look at \"10 minutes to pandas\" in the documentation: https://pandas.pydata.org/docs/user_guide/10min.html"
   ]
  },
  {
   "cell_type": "code",
   "execution_count": null,
   "id": "6cbceb96-a49a-4169-817a-6dc16e421ed3",
   "metadata": {},
   "outputs": [],
   "source": []
  }
 ],
 "metadata": {
  "kernelspec": {
   "display_name": "Python 3 (ipykernel)",
   "language": "python",
   "name": "python3"
  },
  "language_info": {
   "codemirror_mode": {
    "name": "ipython",
    "version": 3
   },
   "file_extension": ".py",
   "mimetype": "text/x-python",
   "name": "python",
   "nbconvert_exporter": "python",
   "pygments_lexer": "ipython3",
   "version": "3.12.4"
  }
 },
 "nbformat": 4,
 "nbformat_minor": 5
}
