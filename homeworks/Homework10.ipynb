{
 "cells": [
  {
   "cell_type": "markdown",
   "id": "541bd44b-3f8c-4000-9856-11d829b4e002",
   "metadata": {},
   "source": [
    "# Homework 10"
   ]
  },
  {
   "cell_type": "markdown",
   "id": "229831f3-fc7f-4e05-a5b6-cd343338acd9",
   "metadata": {},
   "source": [
    "## Name: "
   ]
  },
  {
   "cell_type": "markdown",
   "id": "3810d83a-7ac8-4d02-bc93-cb82a2ba96c1",
   "metadata": {},
   "source": [
    "# Problem 1: One day at GAFO 03/378 "
   ]
  },
  {
   "cell_type": "markdown",
   "id": "4fd95fe4-bcd6-4ab8-bfe5-e8bc40991072",
   "metadata": {},
   "source": [
    "GAFO 03/378 is an office where Frederike and Anastasiia are working on theoretical models of how neutrinos are emitted from a special class of astrophysical sources called blazars. A task that is proposed to you is inspired by a real-physicist-life example. "
   ]
  },
  {
   "cell_type": "markdown",
   "id": "1ccbb662-b3e6-4d70-aefd-10e59e199758",
   "metadata": {},
   "source": [
    "Neutrinos are neutral particles that interact only weakly and have very litte mass. Therefore, they are perfect \"messengers\" that can carry information from the far ends of the Universe. The flip side of the coin is that they are hard to detect and require detectors of enourmous size."
   ]
  },
  {
   "cell_type": "markdown",
   "id": "7420b65c-0545-4f7e-9faf-8477a7c0234f",
   "metadata": {},
   "source": [
    "Let's assume that your theory predicts a spectrum of neutrinos coming from some distant source. How many neutrino events (i.e. detected neutrinos) will that create in a detector like IceCube? We can estimate this as"
   ]
  },
  {
   "cell_type": "markdown",
   "id": "c861d96d-3f94-4a89-9995-2255882521a8",
   "metadata": {},
   "source": [
    "$$N_\\nu = \\frac{1}{3} \\cdot T \\cdot \\int \\Phi_\\nu (E) \\; A_{\\textrm{eff}}(E)\\; \\textrm{d}E$$\n",
    "\n",
    "\n",
    "where:\n",
    "\n",
    "$N_\\nu$ is the expected number of the neutrino events;\n",
    "\n",
    "$T$ is a time of observation or duration of neutrino signal if it was observed completely;\n",
    "\n",
    "$\\Phi_\\nu$ is neutrino flux as a function of energy, also called neutrino spectrum;\n",
    "\n",
    "$A_{\\textrm{eff}}$  is effective area of the detector (in our case IceCube), this parameter describes the efficency of the detector in detecting a muon neutrino with energy $E$;\n",
    "\n",
    "$E$ is the neutrino energy."
   ]
  },
  {
   "cell_type": "markdown",
   "id": "40781cff-3f2e-4146-b301-e3389f0b0b5e",
   "metadata": {},
   "source": [
    "If you're curious why 1/3 appears in the formula, the answer is following: neutrino oscillations. Neutrinos from far sources travel so long distances that when they arrive at Earth highly mixed, their flavor composition is $\\nu_e : \\nu_\\mu : \\nu_\\tau = 1:1:1$ no matter what was their composition at the source. Most of the detectors, howewer, are very sensitive to only one flavor and have much worse sensitivity to all other flavors, therefore, it is roughly the same at taking only 1/3 of all-flavor neutrino flux."
   ]
  },
  {
   "cell_type": "markdown",
   "id": "a55e0720-dc6a-4736-b79d-b664c777478e",
   "metadata": {},
   "source": [
    "**(A)** There are two files provided with this homework: ```IceCube_effective_area.csv``` and ```neutrino_spectrum_hw10.csv```. The first one contains two columns corresponding to the neutrino energy in __TeV__ and effective area in __m$^2$__ respectively. The second one has information on neutrino energy (first column, __eV__) and neutrino flux (second column, __erg/cm$^2$/s__).\n",
    "\n",
    "\n",
    "Read these two files and be careful with the headers and the number of columns. When reading the files, remember that there are ways to skip the first line in order to read only the data.\n",
    "\n",
    "Create two plots next to each other, one for each data file in log-log scale to check what you're given. Remember the important points for making a good plot (e.g. axes labels as always is a minimum requirement to show the plot to other people). (1 P) "
   ]
  },
  {
   "cell_type": "code",
   "execution_count": null,
   "id": "fd6a5b54-b017-4aab-995b-a1c7b79f92fa",
   "metadata": {},
   "outputs": [],
   "source": [
    "# Your code"
   ]
  },
  {
   "cell_type": "markdown",
   "id": "e4ba4faa-dcda-4dae-afa4-b7b83a469760",
   "metadata": {},
   "source": [
    "**(B)** Both your data files consist of points. What happens if you need value of the effective area at $E_\\nu$ = _X_ eV but this point is not in the given array? Right, interpolation!\n",
    "\n",
    "Make two functions that interpolate the given data and that will be used in your integration. Before you rush into implementing them, consider following:\n",
    "\n",
    "$$N_\\nu (\\textrm{dimensionless}) = \\frac{1}{3} \\cdot T \\, \\textrm{[s]} \\cdot \\int \\Phi_\\nu \\, \\left[\\frac{\\textrm{erg}}{\\textrm{cm}^2 \\cdot \\textrm{s}} \\right] \\; A_{\\textrm{eff}} \\,[\\textrm{m}^2] \\textrm{d}E \\,[\\textrm{eV}] $$\n",
    "\n",
    "It doesn't seem to work because the energy units don't cancel out, right? So the correct way to do the integration is to change flux units (and corresponding values) to\n",
    "\n",
    "$$N_\\nu (\\textrm{dimensionless}) = \\frac{1}{3} \\cdot T \\, \\textrm{[s]} \\cdot \\int \\frac{\\Phi_\\nu}{E^2} \\, \\left[\\frac{\\textrm{erg}}{\\textrm{cm}^2 \\cdot \\textrm{s} \\cdot \\textrm{eV}^2} \\right] \\; A_{\\textrm{eff}} \\,[\\textrm{m}^2] \\textrm{d}E \\,[\\textrm{eV}] $$\n",
    "\n",
    "Use \n",
    "$$1 \\textrm{m}^2 = 10^4\\, \\textrm{cm}^2$$\n",
    "and\n",
    "$$1 \\textrm{erg} = 6.242 \\cdot 10^{11}\\, \\textrm{eV}$$\n",
    "\n",
    "to unify the units of the expression under the integral.  "
   ]
  },
  {
   "cell_type": "markdown",
   "id": "77a38869-9598-43fb-990f-c46cc39aec5c",
   "metadata": {},
   "source": [
    "Make two functions:\n",
    "\n",
    "1. Interpolated value of $\\Phi_\\nu/E^2$ (that depends on neutrino energy in eV)\n",
    "2. Interpolated value of $A_{\\textrm{eff}}$ in cm$^2$ (that depends on neutrino energy in eV)\n",
    "\n",
    "Plot both of them and see what happened.  (1 P) "
   ]
  },
  {
   "cell_type": "code",
   "execution_count": null,
   "id": "90dd3854-fb17-4eea-8b2f-393cad117b5c",
   "metadata": {},
   "outputs": [],
   "source": [
    "# Your code"
   ]
  },
  {
   "cell_type": "markdown",
   "id": "3fb892e1-dc9f-44e8-8d92-b28cde45da95",
   "metadata": {},
   "source": [
    "**(C)** Time to integrate! Calculate the integral from $10^{13}$ eV to $10^{18}$ eV using ```quad```. __Use the lambda function!__\n",
    "\n",
    "Assume the same neutrino spectrum was emitted for 5 days. Find (and print out!) the expected number of neutrino events in IceCube during this time.  (1 P) "
   ]
  },
  {
   "cell_type": "code",
   "execution_count": null,
   "id": "70034a3a-80d7-4611-bd01-36485c4e0497",
   "metadata": {},
   "outputs": [],
   "source": [
    "# Your code"
   ]
  },
  {
   "cell_type": "markdown",
   "id": "a8c1d7ae-b905-4a8b-913e-3342e12454f4",
   "metadata": {},
   "source": [
    "**(D)** \n",
    "For a comparison, calculate the same integral from $10^{13}$ eV to $10^{18}$ eV using an alternative integration method from scipy. Consider an appropriate method for this case and **briefly explain your choice**. \n",
    " \n",
    "Find (and print out!) the same number of expected neutrino events with 5 days of emission duration. (1 P) "
   ]
  },
  {
   "cell_type": "code",
   "execution_count": null,
   "id": "95c1804f-1ede-4445-8cef-bfe0590c4e9a",
   "metadata": {},
   "outputs": [],
   "source": [
    "# Your code"
   ]
  },
  {
   "cell_type": "markdown",
   "id": "c8105308-7f6e-4aaf-98e2-42ffca0fa6ea",
   "metadata": {},
   "source": [
    "**(E)** Let's assume that we detected a significant excess of neutrinos in a time period around 2014, December 13. This can be approximated with a Gaussian distribution which is centered around the date with a standard deviation of 55 days.  \n",
    "\n",
    "Plot the distribution using scipy and explicitly show mean and standard deviation values as vertical lines on the plot. Don't forget the axis labels. Make sure to add appropriate ticks on the x-axis. (1 P) "
   ]
  },
  {
   "cell_type": "code",
   "execution_count": null,
   "id": "c26f346e-1205-460e-8f64-f43c1c8dc3ee",
   "metadata": {},
   "outputs": [],
   "source": [
    "# Your code"
   ]
  }
 ],
 "metadata": {
  "kernelspec": {
   "display_name": "Python 3 (ipykernel)",
   "language": "python",
   "name": "python3"
  },
  "language_info": {
   "codemirror_mode": {
    "name": "ipython",
    "version": 3
   },
   "file_extension": ".py",
   "mimetype": "text/x-python",
   "name": "python",
   "nbconvert_exporter": "python",
   "pygments_lexer": "ipython3",
   "version": "3.11.5"
  }
 },
 "nbformat": 4,
 "nbformat_minor": 5
}
